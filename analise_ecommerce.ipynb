{
  "nbformat": 4,
  "nbformat_minor": 0,
  "metadata": {
    "colab": {
      "provenance": [],
      "authorship_tag": "ABX9TyOK7XCvKIewzF4H1u3yunNr",
      "include_colab_link": true
    },
    "kernelspec": {
      "name": "python3",
      "display_name": "Python 3"
    },
    "language_info": {
      "name": "python"
    }
  },
  "cells": [
    {
      "cell_type": "markdown",
      "metadata": {
        "id": "view-in-github",
        "colab_type": "text"
      },
      "source": [
        "<a href=\"https://colab.research.google.com/github/danielasberna/projetos/blob/main/analise_ecommerce.ipynb\" target=\"_parent\"><img src=\"https://colab.research.google.com/assets/colab-badge.svg\" alt=\"Open In Colab\"/></a>"
      ]
    },
    {
      "cell_type": "code",
      "execution_count": null,
      "metadata": {
        "id": "M1eyTvh97FT1"
      },
      "outputs": [],
      "source": [
        "import pandas as pd\n",
        "import seaborn as sns\n",
        "import matplotlib.pyplot as plt\n",
        "\n",
        "# Leitura dos dados\n",
        "df = pd.read_csv('ecommerce_preparados.csv')\n",
        "print(df.head().to_string())\n",
        "\n",
        "# Tratamento de dados\n",
        "print(df.dtypes)\n",
        "df['Qtd_Vendidos'] = pd.to_numeric(df['Qtd_Vendidos'], errors='coerce')\n",
        "df['Qtd_Vendidos'] = df['Qtd_Vendidos'].fillna(0)\n",
        "df['Marca'] = df['Marca'].astype('category').cat.codes\n",
        "df['N_Avaliações'] = pd.to_numeric(df['N_Avaliações'], errors='coerce')\n",
        "df['N_Avaliações'] = df['N_Avaliações'].fillna(0)\n",
        "print(df.dtypes)\n",
        "\n",
        "# Gráfico de Pairplot - Dispersão e Histograma\n",
        "sns.pairplot(df[['Qtd_Vendidos', 'Marca', 'N_Avaliações']])\n",
        "plt.show()\n",
        "\n",
        "# Gráfico de Dispersão entre Marca e Quantidade de Vendas\n",
        "plt.scatter(df['Marca'], df['Qtd_Vendidos'])\n",
        "plt.title('Dispersão - Marca e Quantidade de Vendas')\n",
        "plt.xlabel('Marca')\n",
        "plt.ylabel('Quantidade de Vendas')\n",
        "plt.show()\n",
        "\n",
        "# Mapa de Calor entre Marca e Quantidade de Vendas\n",
        "corr = df[['Marca', 'Qtd_Vendidos']].corr()\n",
        "plt.figure(figsize=(6, 4))\n",
        "sns.heatmap(corr, annot=True, cmap='coolwarm')\n",
        "plt.title('Correlação Marca e Quantidade de Vendas')\n",
        "plt.tight_layout()\n",
        "plt.show()\n",
        "\n",
        "# Gráfico de Barras com correlação de 'Marca' e 'Total de Avaliações'\n",
        "plt.figure(figsize=(10, 6))\n",
        "top_marcas = df['Marca'].value_counts().head(5).sort_values(ascending=True)\n",
        "df['N_Avaliações'].value_counts().head(5).plot(kind='barh', color='#fb1063')\n",
        "plt.title('Marca e Total de Avaliações')\n",
        "plt.xlabel('Total de Avaliações', fontsize=10, labelpad=10)\n",
        "plt.ylabel('Marcas', fontsize=10, labelpad=10)\n",
        "plt.xticks(rotation=0)\n",
        "plt.show()\n",
        "\n",
        "# Gráfico de Pizza com melhores avaliações\n",
        "x = df['N_Avaliações'].value_counts().head(5).index\n",
        "y = df['N_Avaliações'].value_counts().head(5).values\n",
        "plt.figure(figsize=(10, 6))\n",
        "plt.pie(y, labels=x, autopct='%.1f%%', startangle=90)\n",
        "plt.title('Marcas com Melhores Avaliações')\n",
        "plt.show()\n",
        "\n",
        "# Gráfico de Densidade corrigido - Qtd de Vendidos\n",
        "df['Qtd_Vendidos'] = pd.to_numeric(df['Qtd_Vendidos'], errors='coerce')\n",
        "df = df[df['Qtd_Vendidos'].notnull()]  # remove valores inválidos\n",
        "plt.figure(figsize=(10, 6))\n",
        "sns.kdeplot(df['Qtd_Vendidos'], fill=True, color='#ff8ed2')\n",
        "plt.title('Densidade de Quantidade de Vendas')\n",
        "plt.xlabel('Quantidade de Vendas')\n",
        "plt.show()\n",
        "\n",
        "# Gráfico de Regressão\n",
        "sns.regplot(x='N_Avaliações', y='Marca', data=df, color='#ff9de7',\n",
        "            scatter_kws={'alpha': 0.5, 'color':  '#ff1dc8'})\n",
        "plt.title('Regressão de Marca por Avaliações')\n",
        "plt.xlabel('Avaliações')\n",
        "plt.ylabel('Marca')\n",
        "plt.show()\n"
      ]
    }
  ]
}